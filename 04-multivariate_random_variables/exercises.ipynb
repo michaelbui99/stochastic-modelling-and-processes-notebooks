{
 "cells": [
  {
   "cell_type": "code",
   "execution_count": 70,
   "metadata": {},
   "outputs": [],
   "source": [
    "# Multivariate Random Variables exercises"
   ]
  },
  {
   "cell_type": "code",
   "execution_count": 112,
   "metadata": {},
   "outputs": [],
   "source": [
    "import numpy as np\n",
    "import pandas as pd\n",
    "import scipy as sc\n",
    "import sympy as sp\n",
    "import math\n",
    "from sympy import Rational"
   ]
  },
  {
   "attachments": {},
   "cell_type": "markdown",
   "metadata": {},
   "source": [
    "# 1\n",
    "<img src=\"./doc/1.png\">"
   ]
  },
  {
   "attachments": {},
   "cell_type": "markdown",
   "metadata": {},
   "source": [
    "## 1.A Find the marginal PMFs of X and Y.\n",
    "\n",
    "### Answer\n",
    "$$\n",
    "f_x(x) = \\sum_{y_i}f_{xy}(x, y_i)\n",
    "$$"
   ]
  },
  {
   "cell_type": "code",
   "execution_count": 72,
   "metadata": {},
   "outputs": [],
   "source": [
    "data = {'y': [5, 6, 7, 8], 'x1': [Rational(1,12), Rational(2,12), Rational(2,12), 0], 'x2': [0, 0, Rational(1,12), Rational(2,12)], 'x3': [0, Rational(2,12), Rational(2,12), 0]}\n",
    "\n",
    "df = pd.DataFrame(data)\n",
    "\n",
    "pmf_x = {}\n",
    "for i in range(1, len(df.columns)):\n",
    "    pmf_x[f'f({i})'] = [df[f'x{i}'].sum(axis=0)]\n",
    "\n",
    "pmf_x_df = pd.DataFrame(pmf_x)\n",
    "\n",
    "pmf_y = {}\n",
    "for i in range(5, 9):\n",
    "    row = df.query(f'y == {i}')\n",
    "    pmf_y[f'f({i})'] = [row['x1'].values.sum() + row['x2'].values.sum() + row['x3'].values.sum()]\n",
    "\n",
    "pmf_y_df = pd.DataFrame(pmf_y)"
   ]
  },
  {
   "cell_type": "code",
   "execution_count": 73,
   "metadata": {},
   "outputs": [
    {
     "data": {
      "text/html": [
       "<div>\n",
       "<style scoped>\n",
       "    .dataframe tbody tr th:only-of-type {\n",
       "        vertical-align: middle;\n",
       "    }\n",
       "\n",
       "    .dataframe tbody tr th {\n",
       "        vertical-align: top;\n",
       "    }\n",
       "\n",
       "    .dataframe thead th {\n",
       "        text-align: right;\n",
       "    }\n",
       "</style>\n",
       "<table border=\"1\" class=\"dataframe\">\n",
       "  <thead>\n",
       "    <tr style=\"text-align: right;\">\n",
       "      <th></th>\n",
       "      <th>f(1)</th>\n",
       "      <th>f(2)</th>\n",
       "      <th>f(3)</th>\n",
       "    </tr>\n",
       "  </thead>\n",
       "  <tbody>\n",
       "    <tr>\n",
       "      <th>0</th>\n",
       "      <td>5/12</td>\n",
       "      <td>1/4</td>\n",
       "      <td>1/3</td>\n",
       "    </tr>\n",
       "  </tbody>\n",
       "</table>\n",
       "</div>"
      ],
      "text/plain": [
       "   f(1) f(2) f(3)\n",
       "0  5/12  1/4  1/3"
      ]
     },
     "execution_count": 73,
     "metadata": {},
     "output_type": "execute_result"
    }
   ],
   "source": [
    "pmf_x_df"
   ]
  },
  {
   "cell_type": "code",
   "execution_count": 74,
   "metadata": {},
   "outputs": [
    {
     "data": {
      "text/html": [
       "<div>\n",
       "<style scoped>\n",
       "    .dataframe tbody tr th:only-of-type {\n",
       "        vertical-align: middle;\n",
       "    }\n",
       "\n",
       "    .dataframe tbody tr th {\n",
       "        vertical-align: top;\n",
       "    }\n",
       "\n",
       "    .dataframe thead th {\n",
       "        text-align: right;\n",
       "    }\n",
       "</style>\n",
       "<table border=\"1\" class=\"dataframe\">\n",
       "  <thead>\n",
       "    <tr style=\"text-align: right;\">\n",
       "      <th></th>\n",
       "      <th>f(5)</th>\n",
       "      <th>f(6)</th>\n",
       "      <th>f(7)</th>\n",
       "      <th>f(8)</th>\n",
       "    </tr>\n",
       "  </thead>\n",
       "  <tbody>\n",
       "    <tr>\n",
       "      <th>0</th>\n",
       "      <td>1/12</td>\n",
       "      <td>1/3</td>\n",
       "      <td>5/12</td>\n",
       "      <td>1/6</td>\n",
       "    </tr>\n",
       "  </tbody>\n",
       "</table>\n",
       "</div>"
      ],
      "text/plain": [
       "   f(5) f(6)  f(7) f(8)\n",
       "0  1/12  1/3  5/12  1/6"
      ]
     },
     "execution_count": 74,
     "metadata": {},
     "output_type": "execute_result"
    }
   ],
   "source": [
    "pmf_y_df"
   ]
  },
  {
   "attachments": {},
   "cell_type": "markdown",
   "metadata": {},
   "source": [
    "$$\n",
    "f_x(x) = \\begin{cases} \n",
    "\\frac{5}{12} &\\text{for x = 1} \\\\\n",
    "\\frac{1}{4} &\\text{for x = 2} \\\\\n",
    "\\frac{1}{3} &\\text{for x = 3} \\\\\n",
    "\\end{cases} \\\\\n",
    "\\\\\n",
    "\n",
    "f_y(y) =\\begin{cases} \n",
    "\\frac{1}{12} &\\text{for y = 5} \\\\\n",
    "\\frac{1}{3} &\\text{for y = 6} \\\\\n",
    "\\frac{5}{12} &\\text{for y = 7} \\\\\n",
    "\\frac{1}{6} &\\text{for y = 8} \\\\\n",
    "\\end{cases}\n",
    "$$"
   ]
  },
  {
   "attachments": {},
   "cell_type": "markdown",
   "metadata": {},
   "source": [
    "## 1.B - Find $EX$, $EY$, $E[XY]$"
   ]
  },
  {
   "attachments": {},
   "cell_type": "markdown",
   "metadata": {},
   "source": [
    "### Answer\n",
    "$$\n",
    "E(X) = \\sum_{x_i = 1}^{3} x_i \\times f_x(x_i)\n",
    "$$\n",
    "$$\n",
    "E(Y) = \\sum_{y_i = 5}^{8} y_i \\times f_y(y_i)\n",
    "$$"
   ]
  },
  {
   "cell_type": "code",
   "execution_count": 75,
   "metadata": {},
   "outputs": [
    {
     "data": {
      "text/latex": [
       "$\\displaystyle \\frac{23}{12}$"
      ],
      "text/plain": [
       "23/12"
      ]
     },
     "execution_count": 75,
     "metadata": {},
     "output_type": "execute_result"
    }
   ],
   "source": [
    "E_X = (1 * Rational(5,12)) + (2*Rational(1,4)) + (3* Rational(1,3))\n",
    "E_X"
   ]
  },
  {
   "cell_type": "code",
   "execution_count": 76,
   "metadata": {},
   "outputs": [
    {
     "data": {
      "text/latex": [
       "$\\displaystyle \\frac{20}{3}$"
      ],
      "text/plain": [
       "20/3"
      ]
     },
     "execution_count": 76,
     "metadata": {},
     "output_type": "execute_result"
    }
   ],
   "source": [
    "E_Y = (5* Rational(1,12)) + (6*Rational(1,3)) + (7*Rational(5,12))+(8*Rational(1,6))\n",
    "E_Y"
   ]
  },
  {
   "attachments": {},
   "cell_type": "markdown",
   "metadata": {},
   "source": [
    "## 1.C - Specify whether $X$ and $Y$ are independent\n",
    "### Answer\n",
    "If $X$ $Y$ independent, then:\n",
    "$$\n",
    "P(X_i|Y_j) = P(X_i) \\implies \\frac{P(X_i, Y_j)}{P(Y_i)} = P(X_i)\n",
    "$$"
   ]
  },
  {
   "cell_type": "code",
   "execution_count": 77,
   "metadata": {},
   "outputs": [
    {
     "data": {
      "text/plain": [
       "False"
      ]
     },
     "execution_count": 77,
     "metadata": {},
     "output_type": "execute_result"
    }
   ],
   "source": [
    "independent = (Rational(1,12)/Rational(1,12)) == Rational(1,12)\n",
    "independent"
   ]
  },
  {
   "attachments": {},
   "cell_type": "markdown",
   "metadata": {},
   "source": [
    "$X$ $Y$ not independent"
   ]
  },
  {
   "attachments": {},
   "cell_type": "markdown",
   "metadata": {},
   "source": [
    "## 1.D - Find f_{X|Y}(x|y=6)\n",
    "### Answer\n"
   ]
  },
  {
   "cell_type": "code",
   "execution_count": 78,
   "metadata": {},
   "outputs": [
    {
     "name": "stdout",
     "output_type": "stream",
     "text": [
      "x=1: 1/2, x=2: 0, x=3: 1/2\n"
     ]
    }
   ],
   "source": [
    "def solve(x):\n",
    "    y_row = pmf_y_df[f'f(6)']\n",
    "    p_y = Rational(y_row.values.sum())\n",
    "    xy_row = df.query('y == 6')\n",
    "    p_xy = Rational(xy_row[f'x{x}'].values.sum())\n",
    "    return Rational(p_xy)/Rational(p_y)\n",
    "\n",
    "print(f'x=1: {solve(1)}, x=2: {solve(2)}, x=3: {solve(3)}')"
   ]
  },
  {
   "attachments": {},
   "cell_type": "markdown",
   "metadata": {},
   "source": [
    "# 2\n",
    "<img src=\"./doc/2.png\">"
   ]
  },
  {
   "attachments": {},
   "cell_type": "markdown",
   "metadata": {},
   "source": [
    "## 2.A What is the value of k?\n",
    "### Answer\n",
    "The probability of the sample space:\n",
    "$$\n",
    "P(S) = 1 \\implies 3k + \\frac{2}{10} + \\frac{1}{10} + \\frac{4}{10} = 3k +\\frac{7}{10} = 1 \\implies k = 0.1\n",
    "$$"
   ]
  },
  {
   "attachments": {},
   "cell_type": "markdown",
   "metadata": {},
   "source": [
    "## 2.B - What are the marginal PMFs?\n",
    "### Answer"
   ]
  },
  {
   "cell_type": "code",
   "execution_count": 97,
   "metadata": {},
   "outputs": [],
   "source": [
    "x_data = {'y': [-3, -1, 0, 5], 'x4':[Rational(1,10), Rational(2,10), Rational(1,10), 0], 'x5': [0,0,0,Rational(1,10)], 'x7':[0, Rational(1,10), Rational(4,10), 0] }\n",
    "df = pd.DataFrame(x_data)\n",
    "\n",
    "def pmf_x(x):\n",
    "    return df[f'x{x}'].sum()\n",
    "\n",
    "def pmf_y(y):\n",
    "    row = df.query(f'y == {y}')\n",
    "    return row[f'x{4}'].values.sum() + row[f'x{5}'].values.sum() + row[f'x{7}'].values.sum() "
   ]
  },
  {
   "cell_type": "code",
   "execution_count": 98,
   "metadata": {},
   "outputs": [
    {
     "name": "stdout",
     "output_type": "stream",
     "text": [
      "x --> f(4): 2/5, f(5): 1/10, f(7): 1/2\n"
     ]
    }
   ],
   "source": [
    "print(f\"x --> f(4): {pmf_x(4)}, f(5): {pmf_x(5)}, f(7): {pmf_x(7)}\")"
   ]
  },
  {
   "cell_type": "code",
   "execution_count": 99,
   "metadata": {},
   "outputs": [
    {
     "name": "stdout",
     "output_type": "stream",
     "text": [
      "y --> f(-3): 1/10, f(-1): 3/10, f(0): 1/2, f(5): 1/10\n"
     ]
    }
   ],
   "source": [
    "print(f\"y --> f(-3): {pmf_y(-3)}, f(-1): {pmf_y(-1)}, f(0): {pmf_y(0)}, f(5): {pmf_y(5)}\")"
   ]
  },
  {
   "attachments": {},
   "cell_type": "markdown",
   "metadata": {},
   "source": [
    "$$\n",
    "f_X(x) = \\begin{cases}\n",
    "\\frac{2}{5} &\\text{for x=4}\\\\\n",
    "\\frac{1}{10} &\\text{for x=5}\\\\\n",
    "\\frac{1}{2} &\\text{for x=7}\\\\\n",
    "\\end{cases}\\\\\n",
    "$$\n",
    "\n",
    "$$\n",
    "f_Y(y) = \\begin{cases}\n",
    "\\frac{1}{10} &\\text{for y=-3}\\\\\n",
    "\\frac{3}{10} &\\text{for y=-1}\\\\\n",
    "\\frac{1}{2} &\\text{for y=0}\\\\\n",
    "\\frac{1}{10} &\\text{for y=5}\\\\\n",
    "\\end{cases}\n",
    "$$"
   ]
  },
  {
   "attachments": {},
   "cell_type": "markdown",
   "metadata": {},
   "source": [
    "## 2.C - Find:\n",
    "$$\n",
    "E[X]\\\\\n",
    "E[Y]\\\\\n",
    "E[X*Y]\\\\\n",
    "E[X^2]\\\\\n",
    "E[Y^2]\\\\\n",
    "P(Y < 0)\\\\\n",
    "P(X = 5, Y > 0)\\\\\n",
    "P(X < 6, Y < 0)\\\\\n",
    "Var(X)\n",
    "$$"
   ]
  },
  {
   "cell_type": "code",
   "execution_count": 100,
   "metadata": {},
   "outputs": [
    {
     "data": {
      "text/latex": [
       "$\\displaystyle \\frac{28}{5}$"
      ],
      "text/plain": [
       "28/5"
      ]
     },
     "execution_count": 100,
     "metadata": {},
     "output_type": "execute_result"
    }
   ],
   "source": [
    "range_x = [4, 5, 7]\n",
    "E_X = 0\n",
    "for x in range_x:\n",
    "    E_X += x*pmf_x(x)\n",
    "E_X"
   ]
  },
  {
   "cell_type": "code",
   "execution_count": 102,
   "metadata": {},
   "outputs": [
    {
     "data": {
      "text/latex": [
       "$\\displaystyle - \\frac{1}{10}$"
      ],
      "text/plain": [
       "-1/10"
      ]
     },
     "execution_count": 102,
     "metadata": {},
     "output_type": "execute_result"
    }
   ],
   "source": [
    "range_y = [-3, -1, 0, 5]\n",
    "E_Y = 0\n",
    "for y in range_y:\n",
    "    E_Y += y*pmf_y(y)\n",
    "E_Y"
   ]
  },
  {
   "cell_type": "code",
   "execution_count": 105,
   "metadata": {},
   "outputs": [
    {
     "data": {
      "text/latex": [
       "$\\displaystyle \\frac{167}{5}$"
      ],
      "text/plain": [
       "167/5"
      ]
     },
     "execution_count": 105,
     "metadata": {},
     "output_type": "execute_result"
    }
   ],
   "source": [
    "E_X_squared = 0\n",
    "for x in range_x:\n",
    "    E_X_squared += x**2 * pmf_x(x) # By LoTUS\n",
    "\n",
    "E_X_squared"
   ]
  },
  {
   "cell_type": "code",
   "execution_count": 106,
   "metadata": {},
   "outputs": [
    {
     "data": {
      "text/latex": [
       "$\\displaystyle \\frac{37}{10}$"
      ],
      "text/plain": [
       "37/10"
      ]
     },
     "execution_count": 106,
     "metadata": {},
     "output_type": "execute_result"
    }
   ],
   "source": [
    "E_Y_squared = 0\n",
    "for y in range_y:\n",
    "    E_Y_squared += y**2*pmf_y(y)\n",
    "\n",
    "E_Y_squared"
   ]
  },
  {
   "cell_type": "code",
   "execution_count": 107,
   "metadata": {},
   "outputs": [
    {
     "data": {
      "text/latex": [
       "$\\displaystyle \\frac{2}{5}$"
      ],
      "text/plain": [
       "2/5"
      ]
     },
     "execution_count": 107,
     "metadata": {},
     "output_type": "execute_result"
    }
   ],
   "source": [
    "p_y_less_than_0 = 0\n",
    "less_than_0_range = [-1, -3]\n",
    "\n",
    "for y in less_than_0_range:\n",
    "    p_y_less_than_0 += pmf_y(y)\n",
    "\n",
    "p_y_less_than_0"
   ]
  },
  {
   "attachments": {},
   "cell_type": "markdown",
   "metadata": {},
   "source": [
    "$$\n",
    "P(X = 5, Y > 0) = 0 + k = k = \\frac{1}{10}\n",
    "$$"
   ]
  },
  {
   "attachments": {},
   "cell_type": "markdown",
   "metadata": {},
   "source": [
    "$$\n",
    "P(X < 6, Y < 0) = k + 0 + \\frac{2}{10} + 0  = \\frac{1}{10} + \\frac{2}{10} = \\frac{3}{10}\n",
    "$$"
   ]
  },
  {
   "cell_type": "code",
   "execution_count": 111,
   "metadata": {},
   "outputs": [
    {
     "data": {
      "text/latex": [
       "$\\displaystyle \\frac{51}{25}$"
      ],
      "text/plain": [
       "51/25"
      ]
     },
     "execution_count": 111,
     "metadata": {},
     "output_type": "execute_result"
    }
   ],
   "source": [
    "E_X_squared - (E_X**2)"
   ]
  },
  {
   "attachments": {},
   "cell_type": "markdown",
   "metadata": {},
   "source": [
    "# 3 \n",
    "Consider the following PDF: \n",
    "$$\n",
    "f_{Y|X} = x \\times e^{-xy} \\space \\space \\text{for y > 0}\n",
    "$$"
   ]
  },
  {
   "attachments": {},
   "cell_type": "markdown",
   "metadata": {},
   "source": [
    "## Answer\n",
    "Since a PDF is given, then $Y$ and $X$ are continous RVs"
   ]
  },
  {
   "cell_type": "code",
   "execution_count": 137,
   "metadata": {},
   "outputs": [
    {
     "data": {
      "text/latex": [
       "$\\displaystyle 1 - e^{-4}$"
      ],
      "text/plain": [
       "1 - exp(-4)"
      ]
     },
     "execution_count": 137,
     "metadata": {},
     "output_type": "execute_result"
    }
   ],
   "source": [
    "def get_integral():\n",
    "    x = 2\n",
    "    y = sp.Symbol(\"y\")\n",
    "    res = sp.integrate(x*sp.exp(-x*y),(y,0,2))\n",
    "    return res\n",
    "\n",
    "get_integral()"
   ]
  },
  {
   "cell_type": "code",
   "execution_count": 143,
   "metadata": {},
   "outputs": [
    {
     "data": {
      "text/plain": [
       "0.98"
      ]
     },
     "execution_count": 143,
     "metadata": {},
     "output_type": "execute_result"
    }
   ],
   "source": [
    "def cdf_x_2(y):\n",
    "    return 1 - math.exp(-2*y)\n",
    "round(cdf_x_2(2), 2)\n",
    "\n"
   ]
  },
  {
   "cell_type": "code",
   "execution_count": 154,
   "metadata": {},
   "outputs": [
    {
     "data": {
      "text/latex": [
       "$\\displaystyle \\frac{1}{2}$"
      ],
      "text/plain": [
       "1/2"
      ]
     },
     "execution_count": 154,
     "metadata": {},
     "output_type": "execute_result"
    }
   ],
   "source": [
    "x = sp.Symbol(\"x\")\n",
    "y = sp.Symbol(\"y\")\n",
    "E_X_given_X_is_2  = sp.integrate(y * (2*sp.exp(-2*y)), (y, 0, sp.oo))\n",
    "E_X_given_X_is_2"
   ]
  },
  {
   "attachments": {},
   "cell_type": "markdown",
   "metadata": {},
   "source": [
    "## 4\n",
    "Consider two random variables $X$ and $Y$ with a joint PMF given by\n",
    "$$\n",
    "P_{XY}(k, l) = \\frac{1}{2^{k+l}} \\space \\space \\text{k, l} \\in \\mathbb{N}\n",
    "$$\n",
    "\n",
    "Find $P(X^2 + Y^2 \\leq 10)$"
   ]
  },
  {
   "attachments": {},
   "cell_type": "markdown",
   "metadata": {},
   "source": [
    "### Answer"
   ]
  },
  {
   "cell_type": "code",
   "execution_count": 162,
   "metadata": {},
   "outputs": [
    {
     "data": {
      "text/latex": [
       "$\\displaystyle \\int\\limits_{1}^{10} 2^{- x^{2} - y^{2}}\\, dy$"
      ],
      "text/plain": [
       "Integral(2**(-x**2 - y**2), (y, 1, 10))"
      ]
     },
     "execution_count": 162,
     "metadata": {},
     "output_type": "execute_result"
    }
   ],
   "source": [
    "def pmf(x, y):\n",
    "    return Rational(1, 2**(x+y))\n",
    "\n",
    "res = 0\n",
    "for x in range(1, 11):\n",
    "    for y in range(1, 11):\n",
    "        if (x+y <= 10):\n",
    "            res += pmf(x,y)\n",
    "\n",
    "res"
   ]
  }
 ],
 "metadata": {
  "kernelspec": {
   "display_name": "env_full",
   "language": "python",
   "name": "python3"
  },
  "language_info": {
   "codemirror_mode": {
    "name": "ipython",
    "version": 3
   },
   "file_extension": ".py",
   "mimetype": "text/x-python",
   "name": "python",
   "nbconvert_exporter": "python",
   "pygments_lexer": "ipython3",
   "version": "3.9.16"
  },
  "orig_nbformat": 4
 },
 "nbformat": 4,
 "nbformat_minor": 2
}
