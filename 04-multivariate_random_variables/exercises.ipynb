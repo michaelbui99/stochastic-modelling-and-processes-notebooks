{
 "cells": [
  {
   "cell_type": "code",
   "execution_count": 43,
   "metadata": {},
   "outputs": [],
   "source": [
    "# Multivariate Random Variables exercises"
   ]
  },
  {
   "cell_type": "code",
   "execution_count": 44,
   "metadata": {},
   "outputs": [],
   "source": [
    "import numpy as np\n",
    "import pandas as pd\n",
    "import scipy as sc\n",
    "import sympy as sp\n",
    "from sympy import Rational"
   ]
  },
  {
   "attachments": {},
   "cell_type": "markdown",
   "metadata": {},
   "source": [
    "# 1\n",
    "<img src=\"./doc/1.png\">"
   ]
  },
  {
   "attachments": {},
   "cell_type": "markdown",
   "metadata": {},
   "source": [
    "## 1.A Find the marginal PMFs of X and Y.\n",
    "\n",
    "### Answer\n",
    "$$\n",
    "f_x(x) = \\sum_{y_i}f_{xy}(x, y_i)\n",
    "$$"
   ]
  },
  {
   "cell_type": "code",
   "execution_count": 45,
   "metadata": {},
   "outputs": [],
   "source": [
    "data = {'y': [5, 6, 7, 8], 'x1': [Rational(1,12), Rational(2,12), Rational(2,12), 0], 'x2': [0, 0, Rational(1,12), Rational(2,12)], 'x3': [0, Rational(2,12), Rational(2,12), 0]}\n",
    "\n",
    "df = pd.DataFrame(data)\n",
    "\n",
    "pmf_x = {}\n",
    "for i in range(1, len(df.columns)):\n",
    "    pmf_x[f'f({i})'] = [df[f'x{i}'].sum(axis=0)]\n",
    "\n",
    "pmf_x_df = pd.DataFrame(pmf_x)\n",
    "\n",
    "pmf_y = {}\n",
    "for i in range(5, 9):\n",
    "    row = df.query(f'y == {i}')\n",
    "    pmf_y[f'f({i})'] = [row['x1'].values.sum() + row['x2'].values.sum() + row['x3'].values.sum()]\n",
    "\n",
    "pmf_y_df = pd.DataFrame(pmf_y)"
   ]
  },
  {
   "cell_type": "code",
   "execution_count": 46,
   "metadata": {},
   "outputs": [
    {
     "data": {
      "text/html": [
       "<div>\n",
       "<style scoped>\n",
       "    .dataframe tbody tr th:only-of-type {\n",
       "        vertical-align: middle;\n",
       "    }\n",
       "\n",
       "    .dataframe tbody tr th {\n",
       "        vertical-align: top;\n",
       "    }\n",
       "\n",
       "    .dataframe thead th {\n",
       "        text-align: right;\n",
       "    }\n",
       "</style>\n",
       "<table border=\"1\" class=\"dataframe\">\n",
       "  <thead>\n",
       "    <tr style=\"text-align: right;\">\n",
       "      <th></th>\n",
       "      <th>f(1)</th>\n",
       "      <th>f(2)</th>\n",
       "      <th>f(3)</th>\n",
       "    </tr>\n",
       "  </thead>\n",
       "  <tbody>\n",
       "    <tr>\n",
       "      <th>0</th>\n",
       "      <td>5/12</td>\n",
       "      <td>1/4</td>\n",
       "      <td>1/3</td>\n",
       "    </tr>\n",
       "  </tbody>\n",
       "</table>\n",
       "</div>"
      ],
      "text/plain": [
       "   f(1) f(2) f(3)\n",
       "0  5/12  1/4  1/3"
      ]
     },
     "execution_count": 46,
     "metadata": {},
     "output_type": "execute_result"
    }
   ],
   "source": [
    "pmf_x_df"
   ]
  },
  {
   "cell_type": "code",
   "execution_count": 47,
   "metadata": {},
   "outputs": [
    {
     "data": {
      "text/html": [
       "<div>\n",
       "<style scoped>\n",
       "    .dataframe tbody tr th:only-of-type {\n",
       "        vertical-align: middle;\n",
       "    }\n",
       "\n",
       "    .dataframe tbody tr th {\n",
       "        vertical-align: top;\n",
       "    }\n",
       "\n",
       "    .dataframe thead th {\n",
       "        text-align: right;\n",
       "    }\n",
       "</style>\n",
       "<table border=\"1\" class=\"dataframe\">\n",
       "  <thead>\n",
       "    <tr style=\"text-align: right;\">\n",
       "      <th></th>\n",
       "      <th>f(5)</th>\n",
       "      <th>f(6)</th>\n",
       "      <th>f(7)</th>\n",
       "      <th>f(8)</th>\n",
       "    </tr>\n",
       "  </thead>\n",
       "  <tbody>\n",
       "    <tr>\n",
       "      <th>0</th>\n",
       "      <td>1/12</td>\n",
       "      <td>1/3</td>\n",
       "      <td>5/12</td>\n",
       "      <td>1/6</td>\n",
       "    </tr>\n",
       "  </tbody>\n",
       "</table>\n",
       "</div>"
      ],
      "text/plain": [
       "   f(5) f(6)  f(7) f(8)\n",
       "0  1/12  1/3  5/12  1/6"
      ]
     },
     "execution_count": 47,
     "metadata": {},
     "output_type": "execute_result"
    }
   ],
   "source": [
    "pmf_y_df"
   ]
  },
  {
   "attachments": {},
   "cell_type": "markdown",
   "metadata": {},
   "source": [
    "$$\n",
    "f_x(x) = \\begin{cases} \n",
    "\\frac{5}{12} &\\text{for x = 1} \\\\\n",
    "\\frac{1}{4} &\\text{for x = 2} \\\\\n",
    "\\frac{1}{3} &\\text{for x = 3} \\\\\n",
    "\\end{cases} \\\\\n",
    "\\\\\n",
    "\n",
    "f_y(y) =\\begin{cases} \n",
    "\\frac{1}{12} &\\text{for y = 5} \\\\\n",
    "\\frac{1}{3} &\\text{for y = 6} \\\\\n",
    "\\frac{5}{12} &\\text{for y = 7} \\\\\n",
    "\\frac{1}{6} &\\text{for y = 8} \\\\\n",
    "\\end{cases}\n",
    "$$"
   ]
  },
  {
   "attachments": {},
   "cell_type": "markdown",
   "metadata": {},
   "source": [
    "## 1.B - Find $EX$, $EY$, $E[XY]$"
   ]
  },
  {
   "attachments": {},
   "cell_type": "markdown",
   "metadata": {},
   "source": [
    "### Answer\n",
    "$$\n",
    "E(X) = \\sum_{x_i = 1}^{3} x_i \\times f_x(x_i)\n",
    "$$\n",
    "$$\n",
    "E(Y) = \\sum_{y_i = 5}^{8} y_i \\times f_y(y_i)\n",
    "$$"
   ]
  },
  {
   "cell_type": "code",
   "execution_count": 48,
   "metadata": {},
   "outputs": [
    {
     "data": {
      "text/latex": [
       "$\\displaystyle \\frac{23}{12}$"
      ],
      "text/plain": [
       "23/12"
      ]
     },
     "execution_count": 48,
     "metadata": {},
     "output_type": "execute_result"
    }
   ],
   "source": [
    "E_X = (1 * Rational(5,12)) + (2*Rational(1,4)) + (3* Rational(1,3))\n",
    "E_X"
   ]
  },
  {
   "cell_type": "code",
   "execution_count": 49,
   "metadata": {},
   "outputs": [
    {
     "data": {
      "text/latex": [
       "$\\displaystyle \\frac{20}{3}$"
      ],
      "text/plain": [
       "20/3"
      ]
     },
     "execution_count": 49,
     "metadata": {},
     "output_type": "execute_result"
    }
   ],
   "source": [
    "E_Y = (5* Rational(1,12)) + (6*Rational(1,3)) + (7*Rational(5,12))+(8*Rational(1,6))\n",
    "E_Y"
   ]
  },
  {
   "attachments": {},
   "cell_type": "markdown",
   "metadata": {},
   "source": [
    "## 1.C - Specify whether $X$ and $Y$ are independent\n",
    "### Answer\n",
    "If $X$ $Y$ independent, then:\n",
    "$$\n",
    "P(X_i|Y_j) = P(X_i) \\implies \\frac{P(X_i, Y_j)}{P(Y_i)} = P(X_i)\n",
    "$$"
   ]
  },
  {
   "cell_type": "code",
   "execution_count": 50,
   "metadata": {},
   "outputs": [
    {
     "data": {
      "text/plain": [
       "False"
      ]
     },
     "execution_count": 50,
     "metadata": {},
     "output_type": "execute_result"
    }
   ],
   "source": [
    "independent = (Rational(1,12)/Rational(1,12)) == Rational(1,12)\n",
    "independent"
   ]
  },
  {
   "attachments": {},
   "cell_type": "markdown",
   "metadata": {},
   "source": [
    "$X$ $Y$ not independent"
   ]
  },
  {
   "attachments": {},
   "cell_type": "markdown",
   "metadata": {},
   "source": [
    "## 1.D - Find f_{X|Y}(x|y=6)\n",
    "### Answer\n"
   ]
  },
  {
   "cell_type": "code",
   "execution_count": 51,
   "metadata": {},
   "outputs": [
    {
     "data": {
      "text/latex": [
       "$\\displaystyle \\frac{1}{2}$"
      ],
      "text/plain": [
       "1/2"
      ]
     },
     "execution_count": 51,
     "metadata": {},
     "output_type": "execute_result"
    }
   ],
   "source": [
    "def solve(x):\n",
    "    y_row = pmf_y_df[f'f(6)']\n",
    "    p_y = Rational(y_row.values.sum())\n",
    "    xy_row = df.query('y == 6')\n",
    "    p_xy = Rational(xy_row[f'x{x}'].values.sum())\n",
    "    return Rational(p_xy)/Rational(p_y)\n",
    "\n",
    "print(f'x=1: {solve(1)}, x=2: {solve(2)}, x=3: {solve(3)}')"
   ]
  }
 ],
 "metadata": {
  "kernelspec": {
   "display_name": "env_full",
   "language": "python",
   "name": "python3"
  },
  "language_info": {
   "codemirror_mode": {
    "name": "ipython",
    "version": 3
   },
   "file_extension": ".py",
   "mimetype": "text/x-python",
   "name": "python",
   "nbconvert_exporter": "python",
   "pygments_lexer": "ipython3",
   "version": "3.9.16"
  },
  "orig_nbformat": 4
 },
 "nbformat": 4,
 "nbformat_minor": 2
}
