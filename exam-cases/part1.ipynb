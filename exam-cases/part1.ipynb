{
 "cells": [
  {
   "cell_type": "code",
   "execution_count": 1,
   "metadata": {},
   "outputs": [],
   "source": [
    "# Exam Cases lectures 1-3"
   ]
  },
  {
   "cell_type": "code",
   "execution_count": 2,
   "metadata": {},
   "outputs": [],
   "source": [
    "import pandas as pd\n",
    "import numpy as np\n",
    "import scipy as sc\n",
    "import sympy as sp\n",
    "from sympy import Rational\n"
   ]
  },
  {
   "attachments": {},
   "cell_type": "markdown",
   "metadata": {},
   "source": [
    "## 1\n",
    "Four teams A, B, C, and D compete in a tournament. Teams A and B have the same chance of winning the tournament. Team C is twice as likely to win the tournament as team D. The probability that either team A or team C wins the tournament is 0.6. Find the probabilities of each team winning the tournament. State your answer as an integer between 0 and 9, making sure the answer is correctly rounded off.\n",
    "\n",
    "\n",
    "### Answer\n",
    "$$\n",
    "P(A) = P(B) \\\\\n",
    "P(C) = 2 \\times P(D)  \\\\\n",
    "P(A \\cup C) = 0.6\\\\\n",
    "$$\n",
    "\n",
    "We know:\n",
    "$$\n",
    "P(A) + P(B) + P(C) + P(D) = 1 \\implies 2 \\times P(A) + P(C) + \\frac{1}{2} P(C) = 1\n",
    "$$\n",
    "\n",
    "Since only 1 team can win, the events are disjoint: \n",
    "$$\n",
    "P(A) + P(C) = 0.6 \\implies P(C) = 0.6 - P(A) \\space (\\text{by 3. axiom of probability})\n",
    "$$\n",
    "\n",
    "We can now substitue $P(C)$ with $P(A)$\n",
    "$$\n",
    "2 \\times P(A) + \\left(0,6 - P(A) \\right ) + \\frac{1}{2}\\left(0,6 - P(A) \\right ) = 1 \\implies P(A) = P(B) = 0.2\n",
    "$$\n",
    "\n",
    "We also know from earlier that:\n",
    "$$\n",
    "P(C) = 0.6 - P(A) \\implies P(C) = 2 \\times P(D) = 0.6 - 0.2 = 0.4\n",
    "$$\n",
    "\n",
    "Hence:\n",
    "$$\n",
    "P(A) = 0.2 \\\\\n",
    "P(B) = 0.2 \\\\\n",
    "P(C) = 0.4 \\\\\n",
    "P(D) = 0.2 \\\\\n",
    "$$\n"
   ]
  },
  {
   "attachments": {},
   "cell_type": "markdown",
   "metadata": {},
   "source": [
    "## 2"
   ]
  },
  {
   "attachments": {},
   "cell_type": "markdown",
   "metadata": {},
   "source": [
    "## 3"
   ]
  },
  {
   "attachments": {},
   "cell_type": "markdown",
   "metadata": {},
   "source": [
    "## 4\n",
    "Let X be a discrete random variable with the following PMF\n",
    "$$\n",
    "P_X(x) = \\begin{cases}\n",
    "\\frac{1}{2} &\\text{for x = 0}\\\\\n",
    "\\frac{1}{3} &\\text{for x = 1}\\\\\n",
    "\\frac{1}{6} &\\text{for x = 2}\\\\\n",
    "0 &\\text{otherwise}\n",
    "\\end{cases}\n",
    "$$\n",
    "\n",
    "\n",
    "### Answer\n",
    "Domain\n",
    "$$\n",
    "R_X=\\{0, 1, 2\\}\\\\\n",
    "$$\n",
    "\n",
    "Since X is a discrete RV, then $P(X \\geq 1.5) = P(X = 2) = \\frac{1}{6}$ <br>\n",
    "\n",
    "$$\n",
    "P(0 < X < 2) = P(X = 1) = \\frac{1} {3}\n",
    "$$\n",
    "\n",
    "$$\n",
    "P(X = 0 | X < 2) = \\frac{P(X = 0)}{P(X < 2)}= \\frac{\\frac{1}{2}}{\\frac{5}{6}} = \\frac{1}{2} \\times \\frac{5}{6} = \\frac{1}{2} \\times \\frac{6}{5} = \\frac{6}{10}\n",
    "$$"
   ]
  },
  {
   "attachments": {},
   "cell_type": "markdown",
   "metadata": {},
   "source": [
    "## 5\n",
    "Let X\n",
    "\n",
    " be the number of the cars being repaired at a repair shop. We have the following information:\n",
    "\n",
    "    At any time, there are at most 3 cars being repaired.\n",
    "    The probability of having 2 cars at the shop is the same as the probability of having one car.\n",
    "    The probability of having no car at the shop is the same as the probability of having 3 cars.\n",
    "    The probability of having 1 or 2 cars is half of the probability of having 0 or 3 cars.\n",
    "    The shop can handle no more than 3 cars.\n",
    "\n",
    "### Answer\n",
    "We know:\n",
    "$$\n",
    "P(2) = P(1) \\\\\n",
    "P(0) = P(3)\\\\\n",
    "P(1 \\cup 2) = \\frac{1}{2} P(0 \\cup 3)\\\\\n",
    "$$\n",
    "\n",
    "Domain:\n",
    "$$\n",
    "R_x=\\{0, 1, 2, 3\\}\n",
    "$$\n",
    "The amount of cars that can be in the shop is discrete and disjoint\n",
    "$$\n",
    "P(1 \\cup 2) = P(1) + P(2) = 2 \\times P(1) = \\frac{1}{2}(P(0) + P(3)) = P(0)\n",
    "$$\n",
    "\n",
    "Finding $P(0)$\n",
    "$$\n",
    "\\sum_{k=0}^{3} P(X = k) = 1 \\implies P(0) + P(1) + P(2) + P(3) = 1 \\implies 2 \\times P(0) + 2 P(1) = 1 \\implies 2 \\times P(0) + P(0) = 1 \\implies P(0) = \\frac{1}{3}\n",
    "$$\n",
    "\n",
    "\n",
    "Finding $P(1)$\n",
    "$$\n",
    "2 \\times P(1) = P(0) \\implies P(1) = \\frac{P(0)}{2} \\implies P(1) = \\frac{\\frac{1}{3}}{2} =\\frac{1}{6}\n",
    "$$\n"
   ]
  },
  {
   "attachments": {},
   "cell_type": "markdown",
   "metadata": {},
   "source": [
    "## 6"
   ]
  },
  {
   "attachments": {},
   "cell_type": "markdown",
   "metadata": {},
   "source": [
    "## 7\n",
    "The probability that each device functions correctly is p1=0.83 and p2=0.75. Assume that devices fail independently. Let X denote the number of defective devices. Find the mean of X. \n",
    "\n",
    "### Answer\n",
    "We know that the devices fail independently and that both devices can be defective at the same time, i.e. the events are not disjoint.<br>\n",
    "Let X be a discrete RV that denotes the amount of defective devices, then X follows a binomial distribution.<br>\n",
    "\n",
    "Let A be the probability that device 1 functions correctly and B be the probability that device 2 functions correctly.<br>\n",
    "Since the events are independent, we know that: \n",
    "$$\n",
    "P(A \\cap B) = P(A) \\times P(B) = 0.83 \\times 0.75 = 0.62\n",
    "$$\n",
    "\n",
    "The probability that no devices functions correctly must be: \n",
    "$$\n",
    "P(X = 0) = \\neg P(A \\cap B) = 1 - 0.62 = 0.38\n",
    "$$\n",
    "\n",
    "Probability of 1 device defect: \n",
    "$$\n",
    "P(X = 1) =\\neg P(A \\cup B) =\\neg \\left(P(A) + P(B) + P(A \\cap B)\\right) = 1 - (0.83 + 0.75 - 0.62) = 1 - 0,96 = 0,04\n",
    "$$\n",
    "\n",
    "Probability of 2 devices defect: \n",
    "$$\n",
    "P(X = 2) = P(\\neg A \\cap \\neg B) = \\neg P(A \\cup B) =  1 - \n",
    "$$"
   ]
  },
  {
   "cell_type": "code",
   "execution_count": null,
   "metadata": {},
   "outputs": [],
   "source": [
    "n = 1\n",
    "\n",
    "sc.stats.binom()"
   ]
  }
 ],
 "metadata": {
  "kernelspec": {
   "display_name": "env_full",
   "language": "python",
   "name": "python3"
  },
  "language_info": {
   "codemirror_mode": {
    "name": "ipython",
    "version": 3
   },
   "file_extension": ".py",
   "mimetype": "text/x-python",
   "name": "python",
   "nbconvert_exporter": "python",
   "pygments_lexer": "ipython3",
   "version": "3.9.16"
  },
  "orig_nbformat": 4
 },
 "nbformat": 4,
 "nbformat_minor": 2
}
