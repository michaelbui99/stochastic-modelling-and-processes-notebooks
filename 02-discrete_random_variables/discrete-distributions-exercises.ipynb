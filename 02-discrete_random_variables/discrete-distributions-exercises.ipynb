{
 "cells": [
  {
   "attachments": {},
   "cell_type": "markdown",
   "metadata": {},
   "source": [
    "# Discrete Distributions Exercises"
   ]
  },
  {
   "cell_type": "code",
   "execution_count": 5,
   "metadata": {},
   "outputs": [],
   "source": [
    "import pandas as pd \n",
    "import scipy as sp\n"
   ]
  },
  {
   "attachments": {},
   "cell_type": "markdown",
   "metadata": {},
   "source": [
    "## 1. \n",
    "(3.5.11)<br>\n",
    "A computer system uses passwords that are exactly six characters and each character is one ofthe 26 letters (a-–z) or 10 integers (0-–9).<br>\n",
    "Suppose that 10,000 users of the system have unique passwords. A hacker randomly selects (with replacement) 100,000 passwords from the potential set, and a match toa user’s password is called a hit.<br>"
   ]
  },
  {
   "attachments": {},
   "cell_type": "markdown",
   "metadata": {},
   "source": [
    "### 1.A - What is the distributions of the number of hits?\n",
    "#### Answer\n",
    "Let <em>X</em> be a random variable that denotes the amount of correct passwords the hacker selects. Then <em>X</em> follows a binominal distributions, since it is a series of independent Bernoulli trials where the outcome is either \"hit\" or \"no hit\".<br>\n",
    "<em>n</em> is number of trials, which in this case is the number of passwords.<br>\n",
    "<em>p</em> is the probability of getting a hit. In this case we have 10000 users with unique passwords, where the hacker has to pick 1 correct from the 10000. There are $36^6$ possible permutations since we have replacements \n",
    "\n",
    "$$ \n",
    "    X \\sim B(n=100000, p=\\frac{10^4}{36^6})\n",
    "$$"
   ]
  },
  {
   "attachments": {},
   "cell_type": "markdown",
   "metadata": {},
   "source": [
    "### 1.B - What is the probability of no hits?\n",
    "Getting no hits is the same as X = 0 for the binominal distribution. We calculate the probability by using the PMF."
   ]
  },
  {
   "cell_type": "code",
   "execution_count": 12,
   "metadata": {},
   "outputs": [
    {
     "data": {
      "text/plain": [
       "0.63"
      ]
     },
     "execution_count": 12,
     "metadata": {},
     "output_type": "execute_result"
    }
   ],
   "source": [
    "x = 0\n",
    "n = 100000\n",
    "p = pow(10,4) / pow(36,6)\n",
    "\n",
    "p_no_hits = sp.stats.binom.pmf(x, n, p)\n",
    "round(p_no_hits, 2)"
   ]
  },
  {
   "attachments": {},
   "cell_type": "markdown",
   "metadata": {},
   "source": [
    "### 1.C - What are the mean and variance of the hits?"
   ]
  },
  {
   "cell_type": "code",
   "execution_count": 20,
   "metadata": {},
   "outputs": [
    {
     "name": "stdout",
     "output_type": "stream",
     "text": [
      "Mean: 0.46\n",
      "Variance: 0.46\n"
     ]
    }
   ],
   "source": [
    "hits_mean = sp.stats.binom.mean(n, p)\n",
    "hits_variance = sp.stats.binom.var(n, p)\n",
    "\n",
    "print(f\"Mean: {round(hits_mean, 2)}\")\n",
    "print(f\"Variance: {round(hits_variance, 2)}\")"
   ]
  },
  {
   "cell_type": "code",
   "execution_count": null,
   "metadata": {},
   "outputs": [],
   "source": []
  }
 ],
 "metadata": {
  "kernelspec": {
   "display_name": "env_full",
   "language": "python",
   "name": "python3"
  },
  "language_info": {
   "codemirror_mode": {
    "name": "ipython",
    "version": 3
   },
   "file_extension": ".py",
   "mimetype": "text/x-python",
   "name": "python",
   "nbconvert_exporter": "python",
   "pygments_lexer": "ipython3",
   "version": "3.9.16"
  },
  "orig_nbformat": 4,
  "vscode": {
   "interpreter": {
    "hash": "bd9e2ae3d122baa1ddffe589d5cb681683a001c8ea8f9fb613ba2909d22117bf"
   }
  }
 },
 "nbformat": 4,
 "nbformat_minor": 2
}
