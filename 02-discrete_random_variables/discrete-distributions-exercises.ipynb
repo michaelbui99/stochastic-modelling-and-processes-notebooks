{
 "cells": [
  {
   "attachments": {},
   "cell_type": "markdown",
   "metadata": {},
   "source": [
    "# Discrete Distributions Exercises"
   ]
  },
  {
   "cell_type": "code",
   "execution_count": 5,
   "metadata": {},
   "outputs": [],
   "source": [
    "import pandas as pd \n",
    "import scipy as sp\n"
   ]
  },
  {
   "attachments": {},
   "cell_type": "markdown",
   "metadata": {},
   "source": [
    "# 1. \n",
    "(3.5.11)<br>\n",
    "A computer system uses passwords that are exactly six characters and each character is one ofthe 26 letters (a-–z) or 10 integers (0-–9).<br>\n",
    "Suppose that 10,000 users of the system have unique passwords. A hacker randomly selects (with replacement) 100,000 passwords from the potential set, and a match toa user’s password is called a hit.<br>"
   ]
  },
  {
   "attachments": {},
   "cell_type": "markdown",
   "metadata": {},
   "source": [
    "## 1.A - What is the distributions of the number of hits?\n",
    "### Answer\n",
    "Let <em>X</em> be a random variable that denotes the amount of correct passwords the hacker selects. Then <em>X</em> follows a binominal distributions, since it is a series of independent Bernoulli trials where the outcome is either \"hit\" or \"no hit\".<br>\n",
    "<em>n</em> is number of trials, which in this case is the number of passwords.<br>\n",
    "<em>p</em> is the probability of getting a hit. In this case we have 10000 users with unique passwords, where the hacker has to pick 1 correct from the 10000. There are $36^6$ possible permutations since we have replacements \n",
    "\n",
    "$$ \n",
    "    X \\sim B(n=100000, p=\\frac{10^4}{36^6})\n",
    "$$"
   ]
  },
  {
   "attachments": {},
   "cell_type": "markdown",
   "metadata": {},
   "source": [
    "## 1.B - What is the probability of no hits?\n",
    "Getting no hits is the same as X = 0 for the binominal distribution. We calculate the probability by using the PMF."
   ]
  },
  {
   "cell_type": "code",
   "execution_count": 12,
   "metadata": {},
   "outputs": [
    {
     "data": {
      "text/plain": [
       "0.63"
      ]
     },
     "execution_count": 12,
     "metadata": {},
     "output_type": "execute_result"
    }
   ],
   "source": [
    "x = 0\n",
    "n = 100000\n",
    "p = pow(10,4) / pow(36,6)\n",
    "\n",
    "p_no_hits = sp.stats.binom.pmf(x, n, p)\n",
    "round(p_no_hits, 2)"
   ]
  },
  {
   "attachments": {},
   "cell_type": "markdown",
   "metadata": {},
   "source": [
    "## 1.C - What are the mean and variance of the hits?"
   ]
  },
  {
   "cell_type": "code",
   "execution_count": 20,
   "metadata": {},
   "outputs": [
    {
     "name": "stdout",
     "output_type": "stream",
     "text": [
      "Mean: 0.46\n",
      "Variance: 0.46\n"
     ]
    }
   ],
   "source": [
    "hits_mean = sp.stats.binom.mean(n, p)\n",
    "hits_variance = sp.stats.binom.var(n, p)\n",
    "\n",
    "print(f\"Mean: {round(hits_mean, 2)}\")\n",
    "print(f\"Variance: {round(hits_variance, 2)}\")"
   ]
  },
  {
   "attachments": {},
   "cell_type": "markdown",
   "metadata": {},
   "source": [
    "# 2\n",
    "(3.5.13)<br>\n",
    "Because all airline passengers do not show up for their reserved seat, an airline sells 125 tickets\n",
    "for a flight that holds only 120 passengers.<br>\n",
    "The probability that a passenger does not show up is 0.10, and the passengers behave independently."
   ]
  },
  {
   "attachments": {},
   "cell_type": "markdown",
   "metadata": {},
   "source": [
    "## 2.A - What is the probability that every passenger who shows up can take the flight\n",
    "\n",
    "### Answer\n",
    "We know that the passengers behave independently and there are 2 outcomes - show up or do not show up<br>\n",
    "Let <em>X</em> be a random variable that denotes how many passengers that do not show up. Then <em>X</em> follows a binomial distributions, since we have a series of independent Bernoulli distributions where each outcome is either \"show up\" or \"do not show up\" for each ticket sold<br>\n",
    "<em>n</em> is the number of trials, which in this case is how many tickets sold for the flight<br>\n",
    "<em>p</em> is the probability of not showing up, which from the description is 0.10<br>\n",
    "\n",
    "$$\n",
    " X \\sim B(n=125, p=0.10)\n",
    "$$\n",
    "\n",
    "To allow all passengers that show up to take a flight with a seat capacity of 120, when we have sold 125 tickets; 5 or more of the passengers who bought a ticket must not show up. <br>\n",
    "$$P(X >= 5) = 1 - P(X < 5) = 1 - P(X <= 4)$$"
   ]
  },
  {
   "cell_type": "code",
   "execution_count": 25,
   "metadata": {},
   "outputs": [
    {
     "name": "stdout",
     "output_type": "stream",
     "text": [
      "0.996\n"
     ]
    }
   ],
   "source": [
    "n = 125\n",
    "p = 0.1\n",
    "p_all_can_take_flight = 1 - sp.stats.binom.cdf(4, n, p)\n",
    "print(f\"{round(p_all_can_take_flight, 3)}\")"
   ]
  },
  {
   "attachments": {},
   "cell_type": "markdown",
   "metadata": {},
   "source": [
    "## 2.B - What is the probability that a flight departs with empty seats\n",
    "### Answer\n",
    "If the flight has 120 seats and we sell 125 tickets, then at least 6 or more must not show up in order to have a flight with empty seats\n",
    "$$ P(X>=6) = 1 - P(X < 6) = 1 - P(X <= 5) $$"
   ]
  },
  {
   "cell_type": "code",
   "execution_count": 26,
   "metadata": {},
   "outputs": [
    {
     "name": "stdout",
     "output_type": "stream",
     "text": [
      "0.989\n"
     ]
    }
   ],
   "source": [
    "p_flight_with_empty_seats = 1 - sp.stats.binom.cdf(5, n, p)\n",
    "print(f\"{round(p_flight_with_empty_seats, 3)}\")"
   ]
  },
  {
   "attachments": {},
   "cell_type": "markdown",
   "metadata": {},
   "source": [
    "# 3 \n",
    "(3.6.6)<br>\n",
    "A player of a video game is confronted with a series of opponents and has an 80% probability of defeating each one.<br> \n",
    "Success with any opponent is independent of previous encounters. Until defeated, the player continues to contest opponents."
   ]
  },
  {
   "attachments": {},
   "cell_type": "markdown",
   "metadata": {},
   "source": [
    "## 3.A - What is the PMF of the number of opponents contested in the game\n",
    "### Answer\n",
    "We essentially have a geometric distributions, which is a special case of negative binomial where we are looking for how many trials until 1 success.<br> \n",
    "Quick overview: \n",
    "- Binomial Distributions\n",
    "    - Models # of successes in a fixed amount of trials\n",
    "- Negative Binomial Distributions\n",
    "    - Models # of trials until a fixed amount of successes\n",
    "- Geometric\n",
    "    - Models # of trials until 1 success\n",
    "\n",
    "The PMF of a geometric distribution is\n",
    "$$\n",
    " P(X=x) = ({1-p})^{x-1}*p\n",
    "$$"
   ]
  },
  {
   "attachments": {},
   "cell_type": "markdown",
   "metadata": {},
   "source": [
    "## 3.B - What is the probability a player defeats at least two opponents in a game?\n",
    "### Answer\n",
    "Since a geometric distribution models # of trials until success, and our game is how many opponents we can defeat until the player is defeated, then: <br>\n",
    "Let <em>X</em> denote the number of opponents defeated and <em>p</em> be the chance of player defeated, which is $1-P_{defeat~opponent} = 1 - 0.8 = 0.2$ <br>\n",
    "Then to beat at least 2 opponents we have the case \n",
    "$$\n",
    " P(X >= 2) = 1 - P(X < 2) = 1 - P(X <= 1)\n",
    "$$"
   ]
  },
  {
   "cell_type": "code",
   "execution_count": 27,
   "metadata": {},
   "outputs": [
    {
     "name": "stdout",
     "output_type": "stream",
     "text": [
      "0.8\n"
     ]
    }
   ],
   "source": [
    "p = 0.2\n",
    "p_defeat_2_or_more = 1 - sp.stats.geom.cdf(1, 0.2)\n",
    "print(f\"{round(p_defeat_2_or_more, 2)}\")"
   ]
  },
  {
   "attachments": {},
   "cell_type": "markdown",
   "metadata": {},
   "source": [
    "## 3.C - What is the expected number of opponents contesed in a game?\n",
    "The expectation is how many opoonents we expect to defeat until defeat, when the player has a 20% chance of getting defeated. This is essentially the mean of the distribution"
   ]
  },
  {
   "cell_type": "code",
   "execution_count": 32,
   "metadata": {},
   "outputs": [
    {
     "name": "stdout",
     "output_type": "stream",
     "text": [
      "5.0\n"
     ]
    }
   ],
   "source": [
    "expected_opponents = sp.stats.geom.mean(0.2) # Number of expected trials until first success\n",
    "print(f\"{expected_opponents}\")"
   ]
  },
  {
   "attachments": {},
   "cell_type": "markdown",
   "metadata": {},
   "source": [
    "## 3.D - What is the probability that a player contests four or more opponents in a game?\n",
    "### Answer\n",
    "We are looking for \n",
    "$$\n",
    "P(X >= 4) = 1 - P(X < 4) = 1 - P(X <= 3)\n",
    "$$"
   ]
  },
  {
   "cell_type": "code",
   "execution_count": 35,
   "metadata": {},
   "outputs": [
    {
     "name": "stdout",
     "output_type": "stream",
     "text": [
      "0.512\n"
     ]
    }
   ],
   "source": [
    "p = 0.2\n",
    "p_four_or_more = 1- sp.stats.geom.cdf(3, p)\n",
    "print(f\"{p_four_or_more}\")"
   ]
  },
  {
   "attachments": {},
   "cell_type": "markdown",
   "metadata": {},
   "source": [
    "## 3.E - What is expected number of game plays until a player contests four or more opponents?\n",
    "### Answer\n",
    "The chance of defeating 4 or more opponents is \n",
    "$$\n",
    "P(X >= 4)\n",
    "$$\n",
    "We now let X be a random variable that denotes the number of games until contest 4 or more. The expected number of games played until player contests 4 or more is then the mean of the new geometric distribution"
   ]
  },
  {
   "cell_type": "code",
   "execution_count": 39,
   "metadata": {},
   "outputs": [
    {
     "name": "stdout",
     "output_type": "stream",
     "text": [
      "1.95\n"
     ]
    }
   ],
   "source": [
    "expected_games_until_4_or_more_contested = sp.stats.geom.mean(p_four_or_more)\n",
    "print(f\"{round(expected_games_until_4_or_more_contested,2)}\") # 1.95 ~ 2 games "
   ]
  }
 ],
 "metadata": {
  "kernelspec": {
   "display_name": "env_full",
   "language": "python",
   "name": "python3"
  },
  "language_info": {
   "codemirror_mode": {
    "name": "ipython",
    "version": 3
   },
   "file_extension": ".py",
   "mimetype": "text/x-python",
   "name": "python",
   "nbconvert_exporter": "python",
   "pygments_lexer": "ipython3",
   "version": "3.9.16"
  },
  "orig_nbformat": 4,
  "vscode": {
   "interpreter": {
    "hash": "bd9e2ae3d122baa1ddffe589d5cb681683a001c8ea8f9fb613ba2909d22117bf"
   }
  }
 },
 "nbformat": 4,
 "nbformat_minor": 2
}
