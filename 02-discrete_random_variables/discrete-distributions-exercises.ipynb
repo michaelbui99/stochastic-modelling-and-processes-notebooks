{
 "cells": [
  {
   "attachments": {},
   "cell_type": "markdown",
   "metadata": {},
   "source": [
    "# Discrete Distributions Exercises"
   ]
  },
  {
   "cell_type": "code",
   "execution_count": 1,
   "metadata": {},
   "outputs": [],
   "source": [
    "import pandas as pd \n",
    "import scipy as sp\n"
   ]
  },
  {
   "attachments": {},
   "cell_type": "markdown",
   "metadata": {},
   "source": [
    "# 1. \n",
    "(3.5.11)<br>\n",
    "A computer system uses passwords that are exactly six characters and each character is one ofthe 26 letters (a-–z) or 10 integers (0-–9).<br>\n",
    "Suppose that 10,000 users of the system have unique passwords. A hacker randomly selects (with replacement) 100,000 passwords from the potential set, and a match toa user’s password is called a hit.<br>"
   ]
  },
  {
   "attachments": {},
   "cell_type": "markdown",
   "metadata": {},
   "source": [
    "## 1.A - What is the distributions of the number of hits?\n",
    "### Answer\n",
    "Let <em>X</em> be a random variable that denotes the amount of correct passwords the hacker selects. Then <em>X</em> follows a binominal distributions, since it is a series of independent Bernoulli trials where the outcome is either \"hit\" or \"no hit\".<br>\n",
    "<em>n</em> is number of trials, which in this case is the number of passwords.<br>\n",
    "<em>p</em> is the probability of getting a hit. In this case we have 10000 users with unique passwords, where the hacker has to pick 1 correct from the 10000. There are $36^6$ possible permutations since we have replacements \n",
    "\n",
    "$$ \n",
    "    X \\sim B(n=100000, p=\\frac{10^4}{36^6})\n",
    "$$"
   ]
  },
  {
   "attachments": {},
   "cell_type": "markdown",
   "metadata": {},
   "source": [
    "## 1.B - What is the probability of no hits?\n",
    "Getting no hits is the same as X = 0 for the binominal distribution. We calculate the probability by using the PMF."
   ]
  },
  {
   "cell_type": "code",
   "execution_count": 2,
   "metadata": {},
   "outputs": [
    {
     "data": {
      "text/plain": [
       "0.63"
      ]
     },
     "execution_count": 2,
     "metadata": {},
     "output_type": "execute_result"
    }
   ],
   "source": [
    "x = 0\n",
    "n = 100000\n",
    "p = pow(10,4) / pow(36,6)\n",
    "\n",
    "p_no_hits = sp.stats.binom.pmf(x, n, p)\n",
    "round(p_no_hits, 2)"
   ]
  },
  {
   "attachments": {},
   "cell_type": "markdown",
   "metadata": {},
   "source": [
    "## 1.C - What are the mean and variance of the hits?"
   ]
  },
  {
   "cell_type": "code",
   "execution_count": 3,
   "metadata": {},
   "outputs": [
    {
     "name": "stdout",
     "output_type": "stream",
     "text": [
      "Mean: 0.46\n",
      "Variance: 0.46\n"
     ]
    }
   ],
   "source": [
    "hits_mean = sp.stats.binom.mean(n, p)\n",
    "hits_variance = sp.stats.binom.var(n, p)\n",
    "\n",
    "print(f\"Mean: {round(hits_mean, 2)}\")\n",
    "print(f\"Variance: {round(hits_variance, 2)}\")"
   ]
  },
  {
   "attachments": {},
   "cell_type": "markdown",
   "metadata": {},
   "source": [
    "# 2\n",
    "(3.5.13)<br>\n",
    "Because all airline passengers do not show up for their reserved seat, an airline sells 125 tickets\n",
    "for a flight that holds only 120 passengers.<br>\n",
    "The probability that a passenger does not show up is 0.10, and the passengers behave independently."
   ]
  },
  {
   "attachments": {},
   "cell_type": "markdown",
   "metadata": {},
   "source": [
    "## 2.A - What is the probability that every passenger who shows up can take the flight\n",
    "\n",
    "### Answer\n",
    "We know that the passengers behave independently and there are 2 outcomes - show up or do not show up<br>\n",
    "Let <em>X</em> be a random variable that denotes how many passengers that do not show up. Then <em>X</em> follows a binomial distributions, since we have a series of independent Bernoulli distributions where each outcome is either \"show up\" or \"do not show up\" for each ticket sold<br>\n",
    "<em>n</em> is the number of trials, which in this case is how many tickets sold for the flight<br>\n",
    "<em>p</em> is the probability of not showing up, which from the description is 0.10<br>\n",
    "\n",
    "$$\n",
    " X \\sim B(n=125, p=0.10)\n",
    "$$\n",
    "\n",
    "To allow all passengers that show up to take a flight with a seat capacity of 120, when we have sold 125 tickets; 5 or more of the passengers who bought a ticket must not show up. <br>\n",
    "$$P(X >= 5) = 1 - P(X < 5) = 1 - P(X <= 4)$$"
   ]
  },
  {
   "cell_type": "code",
   "execution_count": 4,
   "metadata": {},
   "outputs": [
    {
     "name": "stdout",
     "output_type": "stream",
     "text": [
      "0.996\n"
     ]
    }
   ],
   "source": [
    "n = 125\n",
    "p = 0.1\n",
    "p_all_can_take_flight = 1 - sp.stats.binom.cdf(4, n, p)\n",
    "print(f\"{round(p_all_can_take_flight, 3)}\")"
   ]
  },
  {
   "attachments": {},
   "cell_type": "markdown",
   "metadata": {},
   "source": [
    "## 2.B - What is the probability that a flight departs with empty seats\n",
    "### Answer\n",
    "If the flight has 120 seats and we sell 125 tickets, then at least 6 or more must not show up in order to have a flight with empty seats\n",
    "$$ P(X>=6) = 1 - P(X < 6) = 1 - P(X <= 5) $$"
   ]
  },
  {
   "cell_type": "code",
   "execution_count": 5,
   "metadata": {},
   "outputs": [
    {
     "name": "stdout",
     "output_type": "stream",
     "text": [
      "0.989\n"
     ]
    }
   ],
   "source": [
    "p_flight_with_empty_seats = 1 - sp.stats.binom.cdf(5, n, p)\n",
    "print(f\"{round(p_flight_with_empty_seats, 3)}\")"
   ]
  },
  {
   "attachments": {},
   "cell_type": "markdown",
   "metadata": {},
   "source": [
    "# 3 \n",
    "(3.6.6)<br>\n",
    "A player of a video game is confronted with a series of opponents and has an 80% probability of defeating each one.<br> \n",
    "Success with any opponent is independent of previous encounters. Until defeated, the player continues to contest opponents."
   ]
  },
  {
   "attachments": {},
   "cell_type": "markdown",
   "metadata": {},
   "source": [
    "## 3.A - What is the PMF of the number of opponents contested in the game\n",
    "### Answer\n",
    "We essentially have a geometric distributions, which is a special case of negative binomial where we are looking for how many trials until 1 success.<br> \n",
    "Quick overview: \n",
    "- Binomial Distributions\n",
    "    - Models # of successes in a fixed amount of trials\n",
    "- Negative Binomial Distributions\n",
    "    - Models # of trials until a fixed amount of successes\n",
    "- Geometric\n",
    "    - Models # of trials until 1 success\n",
    "\n",
    "The PMF of a geometric distribution is\n",
    "$$\n",
    " P(X=x) = ({1-p})^{x-1}*p\n",
    "$$"
   ]
  },
  {
   "attachments": {},
   "cell_type": "markdown",
   "metadata": {},
   "source": [
    "## 3.B - What is the probability a player defeats at least two opponents in a game?\n",
    "### Answer\n",
    "Since a geometric distribution models # of trials until success, and our game is how many opponents we can defeat until the player is defeated, then: <br>\n",
    "Let <em>X</em> denote the number of opponents defeated and <em>p</em> be the chance of player defeated, which is $1-P_{defeat~opponent} = 1 - 0.8 = 0.2$ <br>\n",
    "Then to beat at least 2 opponents we have the case \n",
    "$$\n",
    " P(X >= 2) = 1 - P(X < 2) = 1 - P(X <= 1)\n",
    "$$"
   ]
  },
  {
   "cell_type": "code",
   "execution_count": 6,
   "metadata": {},
   "outputs": [
    {
     "name": "stdout",
     "output_type": "stream",
     "text": [
      "0.8\n"
     ]
    }
   ],
   "source": [
    "p = 0.2\n",
    "p_defeat_2_or_more = 1 - sp.stats.geom.cdf(1, 0.2)\n",
    "print(f\"{round(p_defeat_2_or_more, 2)}\")"
   ]
  },
  {
   "attachments": {},
   "cell_type": "markdown",
   "metadata": {},
   "source": [
    "## 3.C - What is the expected number of opponents contesed in a game?\n",
    "The expectation is how many opoonents we expect to defeat until defeat, when the player has a 20% chance of getting defeated. This is essentially the mean of the distribution"
   ]
  },
  {
   "cell_type": "code",
   "execution_count": 7,
   "metadata": {},
   "outputs": [
    {
     "name": "stdout",
     "output_type": "stream",
     "text": [
      "5.0\n"
     ]
    }
   ],
   "source": [
    "expected_opponents = sp.stats.geom.mean(0.2) # Number of expected trials until first success\n",
    "print(f\"{expected_opponents}\")"
   ]
  },
  {
   "attachments": {},
   "cell_type": "markdown",
   "metadata": {},
   "source": [
    "## 3.D - What is the probability that a player contests four or more opponents in a game?\n",
    "### Answer\n",
    "We are looking for \n",
    "$$\n",
    "P(X >= 4) = 1 - P(X < 4) = 1 - P(X <= 3)\n",
    "$$"
   ]
  },
  {
   "cell_type": "code",
   "execution_count": 8,
   "metadata": {},
   "outputs": [
    {
     "name": "stdout",
     "output_type": "stream",
     "text": [
      "0.512\n"
     ]
    }
   ],
   "source": [
    "p = 0.2\n",
    "p_four_or_more = 1- sp.stats.geom.cdf(3, p)\n",
    "print(f\"{p_four_or_more}\")"
   ]
  },
  {
   "attachments": {},
   "cell_type": "markdown",
   "metadata": {},
   "source": [
    "## 3.E - What is expected number of game plays until a player contests four or more opponents?\n",
    "### Answer\n",
    "The chance of defeating 4 or more opponents is \n",
    "$$\n",
    "P(X >= 4)\n",
    "$$\n",
    "We now let X be a random variable that denotes the number of games until contest 4 or more. The expected number of games played until player contests 4 or more is then the mean of the new geometric distribution"
   ]
  },
  {
   "cell_type": "code",
   "execution_count": 9,
   "metadata": {},
   "outputs": [
    {
     "name": "stdout",
     "output_type": "stream",
     "text": [
      "1.95\n"
     ]
    }
   ],
   "source": [
    "expected_games_until_4_or_more_contested = sp.stats.geom.mean(p_four_or_more)\n",
    "print(f\"{round(expected_games_until_4_or_more_contested,2)}\") # 1.95 ~ 2 games "
   ]
  },
  {
   "attachments": {},
   "cell_type": "markdown",
   "metadata": {},
   "source": [
    "# 4 \n",
    "(3.8.5) <br>\n",
    "Astronomers treat the number of stars in a given volume of space as a Poisson random variable.<br>\n",
    "The density in the Milky Way Galaxy in the vicinity of our solar system is one star per 16 cubic light-\n",
    "years."
   ]
  },
  {
   "attachments": {},
   "cell_type": "markdown",
   "metadata": {},
   "source": [
    "## 4.A - What is the probability of two or more stars in 16 cubic light-years?\n",
    "### Answer\n",
    "We now the number of stars in a given volume of space is a Posson random variable. <br>\n",
    "Let <em>X</em> be a random variable that denotes the number of stars per 16 cubic light-years. We then need to find\n",
    "$$\n",
    "P(X >= 2) = 1-P(X < 2) = 1-P(X <= 1)\n",
    "$$"
   ]
  },
  {
   "cell_type": "code",
   "execution_count": 12,
   "metadata": {},
   "outputs": [
    {
     "name": "stdout",
     "output_type": "stream",
     "text": [
      "0.26424111765711533\n"
     ]
    }
   ],
   "source": [
    "mu = 1\n",
    "p_two_or_more = 1 - sp.stats.poisson.cdf(1, mu)\n",
    "print(f\"{p_two_or_more}\")"
   ]
  },
  {
   "attachments": {},
   "cell_type": "markdown",
   "metadata": {},
   "source": [
    "# 5\n",
    "(3.S16)<br>\n",
    "A congested computer network has a 1% chance of losing a data packet that must be resent,<br>\n",
    "and packet losses are independent events. An e-mail message requires 100 packets."
   ]
  },
  {
   "attachments": {},
   "cell_type": "markdown",
   "metadata": {},
   "source": [
    "## 5.A - What is the distribution of the number of packets in an e-mail message that must be resent? Include the parameter values.\n",
    "### Answer\n",
    "Each data packet can either be sent (not resent) or resent <strong>and</strong> the packet losses are independent.<br>\n",
    "Since we have a binary outcome of each trial (sending a single packet) and those events are independent, then the number of packets in an e-mail that must be resent follows a Binomial Distribution<br>\n",
    "Let <em>X</em> be a RV that denotes the number of data packets that must be resent, then <em>X</em> follows a Binomial Distribution where<br>\n",
    "$$\n",
    "X \\sim B(n=100, p=0.01)\n",
    "$$\n",
    "<em>n</em> is the number of packet sent<br>\n",
    "<em>p</em> is probability of losing a packet"
   ]
  },
  {
   "attachments": {},
   "cell_type": "markdown",
   "metadata": {},
   "source": [
    "## 5.B - What is the probability that at least one packet is resent?\n",
    "### Answer\n",
    "The probability of resending at least one packet is \n",
    "$$\n",
    "P(X >= 1) = 1 - P(X <= 0)\n",
    "$$"
   ]
  },
  {
   "cell_type": "code",
   "execution_count": 17,
   "metadata": {},
   "outputs": [
    {
     "name": "stdout",
     "output_type": "stream",
     "text": [
      "0.63\n"
     ]
    }
   ],
   "source": [
    "p = 0.01 \n",
    "n = 100\n",
    "p_one_or_more = 1-sp.stats.binom.cdf(0, n, p)\n",
    "print(f\"{round(p_one_or_more, 2)}\")"
   ]
  },
  {
   "attachments": {},
   "cell_type": "markdown",
   "metadata": {},
   "source": [
    "## 5.C - What is the probability that two or more packets are resent?\n",
    "### Answer\n",
    "$$\n",
    "P(X>=2) =  1 - P(X<=1)\n",
    "$$"
   ]
  },
  {
   "cell_type": "code",
   "execution_count": 18,
   "metadata": {},
   "outputs": [
    {
     "name": "stdout",
     "output_type": "stream",
     "text": [
      "0.26\n"
     ]
    }
   ],
   "source": [
    "p_two_or_more = 1-sp.stats.binom.cdf(1,n,p)\n",
    "print(f\"{round(p_two_or_more, 2)}\")"
   ]
  },
  {
   "attachments": {},
   "cell_type": "markdown",
   "metadata": {},
   "source": [
    "## 5.D What are the mean and standard deviation of the number of packets that are sent?\n",
    "### Answer"
   ]
  },
  {
   "cell_type": "code",
   "execution_count": 21,
   "metadata": {},
   "outputs": [
    {
     "name": "stdout",
     "output_type": "stream",
     "text": [
      "Mean: 1.0, Standard Deviation: 0.99498743710662\n"
     ]
    }
   ],
   "source": [
    "mean = sp.stats.binom.mean(n, p)\n",
    "standard_deviation = sp.stats.binom.std(n,p)\n",
    "print(f\"Mean: {round(mean, 4)}, Standard Deviation: {standard_deviation}\")"
   ]
  },
  {
   "attachments": {},
   "cell_type": "markdown",
   "metadata": {},
   "source": [
    "# 6 \n",
    "(3.S28) A manufacturer of a consumer electronics product expects 2% of units to fail during the warranty\n",
    "period. A sample of 500 independent units is tracked for warranty performance."
   ]
  },
  {
   "attachments": {},
   "cell_type": "markdown",
   "metadata": {},
   "source": [
    "## 6.A What is the probability that none fails during the warranty period?\n",
    "### Answer\n",
    "It is assumed that the failure of a unit is independent of other units since the units are independent. <br>\n",
    "Given that the units can either fail or not fail during the warranty, i.e. a binary outcome, and the failures are independent:\n",
    "Let <em>X</em> be a RV that denotes the amount of failures in the warrany period, then <em>X</em> must follow a Binomial distribution <br>\n",
    "$$\n",
    "X \\sim B(n=500, p=0.02)\n",
    "$$\n",
    "<em>n</em> is the number of units<br>\n",
    "<em>p</em> is the probability of failure<br>\n",
    "\n",
    "We are looking for \n",
    "$$\n",
    "P(X = 0)\n",
    "$$"
   ]
  },
  {
   "cell_type": "code",
   "execution_count": 24,
   "metadata": {},
   "outputs": [
    {
     "name": "stdout",
     "output_type": "stream",
     "text": [
      "0.0\n"
     ]
    }
   ],
   "source": [
    "n = 500\n",
    "p= 0.02\n",
    "p_no_failures = sp.stats.binom.cdf(0, n, p)\n",
    "print(f\"{round(p_no_failures, 2)}\")"
   ]
  },
  {
   "attachments": {},
   "cell_type": "markdown",
   "metadata": {},
   "source": [
    "## 6.B  What is the expected number of failures during the warranty period?\n",
    "### Answer\n",
    "The expected number of failures during the warranty period is the mean of the distribution"
   ]
  },
  {
   "cell_type": "code",
   "execution_count": 25,
   "metadata": {},
   "outputs": [
    {
     "name": "stdout",
     "output_type": "stream",
     "text": [
      "10.0\n"
     ]
    }
   ],
   "source": [
    "expected_failure_count = sp.stats.binom.mean(n, p)\n",
    "print(f\"{expected_failure_count}\")"
   ]
  },
  {
   "attachments": {},
   "cell_type": "markdown",
   "metadata": {},
   "source": [
    "## 6.C What is the probability that more than two units fail during the warranty period?\n",
    "### Answer\n",
    "We are looking for \n",
    "$$\n",
    "P(X > 2) = 1-P(X<=2)\n",
    "$$"
   ]
  },
  {
   "cell_type": "code",
   "execution_count": 27,
   "metadata": {},
   "outputs": [
    {
     "name": "stdout",
     "output_type": "stream",
     "text": [
      "1.0\n"
     ]
    }
   ],
   "source": [
    "p_more_than_two = 1 - sp.stats.binom.cdf(2, n, p)\n",
    "print(f\"{round(p_more_than_two,2)}\")"
   ]
  },
  {
   "attachments": {},
   "cell_type": "markdown",
   "metadata": {},
   "source": [
    "# 7\n",
    "The probability that a patient recovers from a rare blood disease is 0.4. If 15 people are known to have\n",
    "contracted this disease, what is the probability that"
   ]
  },
  {
   "attachments": {},
   "cell_type": "markdown",
   "metadata": {},
   "source": [
    "## 7.A at least 10 survive\n",
    "### Answer\n",
    "It is assumed that the recovery of an patient is independent of other patient. In this situation a patient can either recover or not i.e., a binary outcome <br>\n",
    "Let <em>X</em> be a RV that denotes the number of recovered patients<br>\n",
    "$$\n",
    "X \\sim B(n=15, p=0.4)\n",
    "$$\n",
    "<em>n</em> is the number of patients<br>\n",
    "<em>p</em> is the probability of recovery<br>\n",
    "\n",
    "$$\n",
    "P(X>=10) = 1 - P(X <= 9)\n",
    "$$"
   ]
  },
  {
   "cell_type": "code",
   "execution_count": 29,
   "metadata": {},
   "outputs": [
    {
     "name": "stdout",
     "output_type": "stream",
     "text": [
      "0.97\n"
     ]
    }
   ],
   "source": [
    "n = 15\n",
    "p = 0.4\n",
    "p_atleast_10_recovery = sp.stats.binom.cdf(9, n, p)\n",
    "print(f\"{round(p_atleast_10_recovery, 2)}\")"
   ]
  },
  {
   "attachments": {},
   "cell_type": "markdown",
   "metadata": {},
   "source": [
    "## 7.B from 3 to 8 survive\n",
    "### Answer\n",
    "$$\n",
    "P(3<=x<=8) = P(X > 9) - (P(X<=2)) = (P(X <=8)) - P(X<=2)\n",
    "$$"
   ]
  },
  {
   "cell_type": "code",
   "execution_count": 30,
   "metadata": {},
   "outputs": [
    {
     "name": "stdout",
     "output_type": "stream",
     "text": [
      "0.88\n"
     ]
    }
   ],
   "source": [
    "p_3_to_8_recovery = sp.stats.binom.cdf(8, n, p) - sp.stats.binom.cdf(2, n, p)\n",
    "print(f\"{round(p_3_to_8_recovery, 2)}\")"
   ]
  },
  {
   "attachments": {},
   "cell_type": "markdown",
   "metadata": {},
   "source": [
    "## 7.C Exactly 5\n",
    "### Answer\n",
    "$$\n",
    "P(X = 5)\n",
    "$$"
   ]
  },
  {
   "cell_type": "code",
   "execution_count": 31,
   "metadata": {},
   "outputs": [
    {
     "data": {
      "text/plain": [
       "0.19"
      ]
     },
     "execution_count": 31,
     "metadata": {},
     "output_type": "execute_result"
    }
   ],
   "source": [
    "p_5 = sp.stats.binom.pmf(5, n ,p)\n",
    "round(p_5,2)"
   ]
  },
  {
   "attachments": {},
   "cell_type": "markdown",
   "metadata": {},
   "source": [
    "## 7.D Find the mean and variance\n",
    "### Answer"
   ]
  },
  {
   "cell_type": "code",
   "execution_count": 33,
   "metadata": {},
   "outputs": [
    {
     "name": "stdout",
     "output_type": "stream",
     "text": [
      "Mean: 6.0, Variance: 3.6\n"
     ]
    }
   ],
   "source": [
    "mean = sp.stats.binom.mean(n, p)\n",
    "variance = sp.stats.binom.var(n, p)\n",
    "print(f\"Mean: {mean}, Variance: {round(variance, 2)}\")"
   ]
  },
  {
   "attachments": {},
   "cell_type": "markdown",
   "metadata": {},
   "source": [
    "# 8\n",
    "A large chain retailer purchases a certain kind of electronic device from a manufacturer. The manufac-\n",
    "turer indicates that the defective rate of the device is 3%"
   ]
  },
  {
   "attachments": {},
   "cell_type": "markdown",
   "metadata": {},
   "source": [
    "## 8.A The inspector of the retailer randomly picks 20 items from a shipment. What is the probability that there will be at least one defective item among them?\n",
    "### Answer\n",
    "It is assumed that the items being defective is independent from each other. Each item can either be defective or not i.e., binary outcome.<br>\n",
    "Let <em>X</em> be a RV that denotes the amount of defective items, then <em>X</em> follows a Binomial distribution <br>\n",
    "$$\n",
    "X \\sim B(n=20, p=0.03)\n",
    "$$\n",
    "<em>n</em> number of items picked from shipment<br>\n",
    "<em>p</em> probability of an item being defect<br>\n",
    "\n",
    "$$\n",
    "P(X >= 1) = 1 - P(X <= 0)\n",
    "$$"
   ]
  },
  {
   "cell_type": "code",
   "execution_count": 40,
   "metadata": {},
   "outputs": [
    {
     "data": {
      "text/plain": [
       "0.456"
      ]
     },
     "execution_count": 40,
     "metadata": {},
     "output_type": "execute_result"
    }
   ],
   "source": [
    "n = 20\n",
    "p = 0.03\n",
    "p_atleast_one_defective = 1 - sp.stats.binom.cdf(0, n, p)\n",
    "round(p_atleast_one_defective, 3)"
   ]
  },
  {
   "attachments": {},
   "cell_type": "markdown",
   "metadata": {},
   "source": [
    "## 8.B Suppose that the retailer receives 10 shipments in a month and the inspector randomly tests 20 devices per shipment. What is the probability that there will be 3 shipments containing at least one defective device?\n",
    "### Answer\n",
    "Let now <em>Y</em> be a RV that denotes the amount of defective devices per shipment, <em>Y</em> follows a Binomial distribution<br> \n",
    "$$\n",
    "Y \\sim B(n=10, p=P(X>=1))\n",
    "$$\n",
    "\n",
    "$$\n",
    "P(Y = 3)\n",
    "$$"
   ]
  },
  {
   "cell_type": "code",
   "execution_count": 41,
   "metadata": {},
   "outputs": [
    {
     "data": {
      "text/plain": [
       "0.16"
      ]
     },
     "execution_count": 41,
     "metadata": {},
     "output_type": "execute_result"
    }
   ],
   "source": [
    "p = p_atleast_one_defective\n",
    "n = 10\n",
    "p_3_shipments_atleast_one_defective =  sp.stats.binom.pmf(3, n, p)\n",
    "round(p_3_shipments_atleast_one_defective, 2)"
   ]
  },
  {
   "attachments": {},
   "cell_type": "markdown",
   "metadata": {},
   "source": [
    "# 9\n",
    "High flows result in the closure of a causeway. From past records, the road is closed for this reason on 10\n",
    "days during a 20-year period.<br>\n",
    "At an adjoining village, there is concern about the closure of the causeway because it provides the only access. <br>\n",
    "The villagers assume that the probability of a closure of the road for more than one day during a year is less than 0.10. <br>\n",
    "Is this correct? Please show using the Poisson distribution."
   ]
  },
  {
   "attachments": {},
   "cell_type": "markdown",
   "metadata": {},
   "source": [
    "## Answer to 9\n",
    "Let <em>X</em> be a RV that denotes the number of days the road is closed during a year, then X follows a poisson distribution<br>\n",
    "$$\n",
    "X \\sim Poi(\\lambda = 10 days / 20 years)\n",
    "$$\n",
    "$\\lambda$ denotes the average amount of days the road is closed in a year<br>\n",
    "\n",
    "We must show that \n",
    "$$\n",
    "P(X>1) < 0.10 \\implies 1-P(X<=1) < 0.10\n",
    "$$\n"
   ]
  },
  {
   "cell_type": "code",
   "execution_count": 46,
   "metadata": {},
   "outputs": [
    {
     "name": "stdout",
     "output_type": "stream",
     "text": [
      "Villagers are correct: True, P(x > 1): 0.0902\n"
     ]
    }
   ],
   "source": [
    "_lambda = 10/20\n",
    "p_more_than_one_day = 1-sp.stats.poisson.cdf(1, _lambda) \n",
    "villangers_correct  = p_more_than_one_day < 0.10\n",
    "print(f\"Villagers are correct: {villangers_correct}, P(x > 1): {round(p_more_than_one_day,4)}\")"
   ]
  },
  {
   "attachments": {},
   "cell_type": "markdown",
   "metadata": {},
   "source": [
    "# 10\n",
    "A company performs inspection on shipments from suppliers in order to detect nonconforming products.<br>\n",
    "Assume a lot contains 1000 items and 1% is nonconforming.<br> \n",
    "Assuming that the number of nonconforming products in the sample is binomial,<br> what sample size is needed so that the probability of choosing at\n",
    "least one nonconforming item in the sample is at least 0.9?"
   ]
  },
  {
   "attachments": {},
   "cell_type": "markdown",
   "metadata": {},
   "source": [
    "## Answer to 10\n"
   ]
  },
  {
   "attachments": {},
   "cell_type": "markdown",
   "metadata": {},
   "source": [
    "# 11\n",
    "The number of errors in a textbook follows a Poisson distribution with a mean of 0.01 error per page.\n",
    "What is the probability that there are three or less errors in 100 pages?"
   ]
  },
  {
   "attachments": {},
   "cell_type": "markdown",
   "metadata": {},
   "source": [
    "## Answer to 11\n",
    "Let <em>X</em> be a RV that denotes the number of errors in 100 pages, then <em>X</em> follows a poisson distribution<br>\n",
    "$$\n",
    "X \\sim Poi(\\lambda = 0.01 \\frac{errors}{page} * 100 pages)\n",
    "$$\n",
    "$\\lambda$ is the average number of errors per 100 pages\n",
    "\n",
    "$$\n",
    "P(X<=3)\n",
    "$$"
   ]
  },
  {
   "cell_type": "code",
   "execution_count": null,
   "metadata": {},
   "outputs": [],
   "source": [
    "errors_per_page = 0.01\n",
    "pages = 100\n",
    "_lambda = errors_per_page*pages\n",
    "p_3_or_less = sp.stats.poisson.cdf(3, _lambda)\n",
    "round(p_3_or_less,2)"
   ]
  }
 ],
 "metadata": {
  "kernelspec": {
   "display_name": "env_full",
   "language": "python",
   "name": "python3"
  },
  "language_info": {
   "codemirror_mode": {
    "name": "ipython",
    "version": 3
   },
   "file_extension": ".py",
   "mimetype": "text/x-python",
   "name": "python",
   "nbconvert_exporter": "python",
   "pygments_lexer": "ipython3",
   "version": "3.9.16"
  },
  "orig_nbformat": 4,
  "vscode": {
   "interpreter": {
    "hash": "bd9e2ae3d122baa1ddffe589d5cb681683a001c8ea8f9fb613ba2909d22117bf"
   }
  }
 },
 "nbformat": 4,
 "nbformat_minor": 2
}
