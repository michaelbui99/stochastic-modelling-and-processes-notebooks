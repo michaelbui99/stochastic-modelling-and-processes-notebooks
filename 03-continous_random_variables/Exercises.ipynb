{
 "cells": [
  {
   "attachments": {},
   "cell_type": "markdown",
   "metadata": {},
   "source": [
    "# Continous Random Variables Exercises"
   ]
  },
  {
   "cell_type": "code",
   "execution_count": 27,
   "metadata": {},
   "outputs": [],
   "source": [
    "import numpy as np\n",
    "import pandas as pd\n",
    "import scipy as sp"
   ]
  },
  {
   "attachments": {},
   "cell_type": "markdown",
   "metadata": {},
   "source": [
    "## Exam 2014.1\n",
    "Let X denote a continuous stochastic variable with the following probability density function<br>\n",
    "<img src=\"./images/2014_1.png\">\n"
   ]
  },
  {
   "attachments": {},
   "cell_type": "markdown",
   "metadata": {},
   "source": [
    "## 2014.1 A - Show that the CDF of X is \n",
    "<img src=\"./images/2014_1_a.png\"><br>\n",
    "\n",
    "### Answer\n",
    "We are given a PDF from which we can find the CDF by taking the definite integral of the PDF from -1 to X<br>\n",
    "$$\n",
    "F(x) = \\int_{-1}^{x} cu^4 \\,du\\ \\implies  F(x)= c \\int_{-1}^{x} u^4 \\,du \\implies F(X) = c [\\frac{1}{5}x^5 - 0] + c = \\frac{1}{5}c(x^5+1) , when -1 <= x <= 1\n",
    "$$"
   ]
  },
  {
   "attachments": {},
   "cell_type": "markdown",
   "metadata": {},
   "source": [
    "## 2014.1 B - Determine the constant c and restate both the PDF and CDF using the actual value of C\n",
    "### Answer\n",
    "We know that \n",
    "$$\n",
    "F(1) = 1 \\implies \\frac{1}{5}c(1^5+1) = 1 \\implies \\frac{1}{5}(c+c)= \\implies \\frac{1}{5}(2c) = 1 \\implies \\frac{2}{5}c = 1 \\implies \\frac{2}{5}  \\frac{5}{2}  c = 1  \\frac{5}{2} \\implies c = \\frac{5}{2}\n",
    "$$\n",
    "\n",
    "PDF: <br>\n",
    "$$\n",
    "f(x)=\\begin{cases}\n",
    "   0 &\\text{for } < -1 \\\\\n",
    "   \\frac{5}{2}x^4 &\\text{for } -1 < x < 1 \\\\\n",
    "   1 &\\text{for } x > 1\n",
    "\\end{cases}\n",
    "$$\n",
    "\n",
    "CDF: \n",
    "\n",
    "$$\n",
    "F(x)=\\begin{cases}\n",
    "   0 &\\text{for } < -1 \\\\\n",
    "   \\frac{1}{5} \\times \\frac{5}{2}(x^5+1) &\\text{for } -1 < x < 1 \\\\\n",
    "   1 &\\text{for } x > 1\n",
    "\\end{cases}\n",
    "$$\n",
    "\n"
   ]
  },
  {
   "attachments": {},
   "cell_type": "markdown",
   "metadata": {},
   "source": [
    "## 2014.1 C - Compute $P(-\\frac{1}{2} < X < \\frac{1}{2})$\n",
    "### Answer\n",
    "<!-- First we find CDF with $-\\frac{1}{2}$ as lowerbound<br>\n",
    "$$\n",
    "F(x) = \\int_{-\\frac{1}{2}}^{x} \\frac{5}{2}u^4 \\,du \\implies F(x)=\\frac{5}{2} \\int_{-\\frac{1}{2}}^{x} u^4 \\,du \\implies F(x) = \\frac{5}{2} [\\frac{1}{5}x^5 - (\\frac{1}{5}(-\\frac{1}{10}))] = \\frac{5}{10}x^5 + \\frac{5}{100} = \\frac{5}{10}x^5 + \\frac{1}{20}\n",
    "$$ -->\n",
    "\n",
    "We compute the probability using the CDF: \n",
    "$$\n",
    "P(-\\frac{1}{2} < X < \\frac{1}{2}) = F(\\frac{1}{2}) - F(-\\frac{1}{2})\n",
    "$$"
   ]
  },
  {
   "cell_type": "code",
   "execution_count": 28,
   "metadata": {},
   "outputs": [
    {
     "name": "stdout",
     "output_type": "stream",
     "text": [
      "0.03125\n"
     ]
    }
   ],
   "source": [
    "def cdf(x):\n",
    "    return (1/5)*(5/2)*(pow(x,5)+1)\n",
    "\n",
    "print(f\"{cdf(1/2)-cdf(-(1/2))}\")"
   ]
  },
  {
   "attachments": {},
   "cell_type": "markdown",
   "metadata": {},
   "source": [
    "## 2014.1 D - Find the expected value and variance of X\n",
    "### Answer\n",
    "$$\n",
    "E(X) = \\int_{-1}^{1} x \\times f(x) dx \\implies E(x) = \\int_{-1}^{1} x \\times \\frac{5}{2}x^4 = \\int_{-1}^{1} \\frac{5}{2}x^5 = [\\frac{5}{12}x^6]_{-1}^{1}\n",
    "$$"
   ]
  },
  {
   "cell_type": "code",
   "execution_count": 29,
   "metadata": {},
   "outputs": [
    {
     "data": {
      "text/plain": [
       "0.0"
      ]
     },
     "execution_count": 29,
     "metadata": {},
     "output_type": "execute_result"
    }
   ],
   "source": [
    "def expected_integral(x):\n",
    "    return (5/12)*pow(x,6)\n",
    "\n",
    "expected_integral(1) - expected_integral(-1)"
   ]
  },
  {
   "attachments": {},
   "cell_type": "markdown",
   "metadata": {},
   "source": [
    "## Exam 2018.1\n",
    "Let <em>X</em> denote a continuous stochastic variable with the following density function\n",
    "$$\n",
    "f(x)=\\begin{cases}\n",
    "   c(1-x^2) &\\text{for } -1 < x < 1 \\\\\n",
    "   0 &\\text{otherwise } \n",
    "\\end{cases}\n",
    "$$"
   ]
  },
  {
   "attachments": {},
   "cell_type": "markdown",
   "metadata": {},
   "source": [
    "## 2018.1 A - Determine the value of C and state the CDF of <em>X</em>\n",
    "### Answer\n",
    "CDF: \n",
    "$$\n",
    "F(x) = \\int_{-1}^{x} c(1-u^2) \\,du \\implies F(X)= c \\int_{-1}^{x} (1-u^2) \\,du \\implies F(x) = c[u - \\frac{1}{3}u^3]_{-1}^{x} = - \\frac{c \\times (x^3 -3x -2)}{3}\n",
    "$$\n",
    "\n",
    "Finding c: <br>\n",
    "$$\n",
    "F(1) = 1 \\implies - \\frac{c \\times (1^3 -3\\times1 -2)}{3} = 1 \\implies c = \\frac{3}{4}\n",
    "$$\n",
    "\n",
    "CDF is then: \n",
    "$$\n",
    "F(x)=\\begin{cases}\n",
    "  - \\frac{\\frac{3}{4} \\times (x^3 -3x -2)}{3} &\\text{for } -1 < x < 1 \\\\\n",
    "   0 &\\text{otherwise } \n",
    "\\end{cases}\n",
    "$$"
   ]
  },
  {
   "attachments": {},
   "cell_type": "markdown",
   "metadata": {},
   "source": [
    "## 2018.1 B - Determine $P(X<=\\frac{1}{2})$ and  $P(X<=-\\frac{1}{4})$\n",
    "### Answer"
   ]
  },
  {
   "cell_type": "code",
   "execution_count": 30,
   "metadata": {},
   "outputs": [
    {
     "name": "stdout",
     "output_type": "stream",
     "text": [
      "0.84375      0.31640625\n"
     ]
    }
   ],
   "source": [
    "def cdf(x):\n",
    "    return ((-(3/4)*(pow(x,3)-3*x-2))/3)\n",
    "\n",
    "print(f\"{cdf(1/2)}      {cdf(-1/4)}\")"
   ]
  },
  {
   "attachments": {},
   "cell_type": "markdown",
   "metadata": {},
   "source": [
    "## Reexam 2018.1\n",
    "Compute the expected value, $E(X)$, if $X$ has a density function as follows"
   ]
  },
  {
   "attachments": {},
   "cell_type": "markdown",
   "metadata": {},
   "source": [
    "## 2018.1 A \n",
    "### Answer\n",
    "$$\n",
    "f(x) = \\begin{cases} \n",
    "    \\frac{1}{4}xe^{-\\frac{x}{2}} &\\text{for } x > 0 \\\\\n",
    "    0 &\\text{otherwise}\n",
    "\\end{cases}\n",
    "$$\n",
    "\n",
    "$$ \n",
    "E(X) = \\int_{0}^{\\infty} x \\times f(x) dx \\implies E(X) = \\int_{0}^{\\infty} x \\times \\frac{1}{4}xe^{-\\frac{x}{2}} \\implies E(X) = \\int_{0}^{\\infty} \\frac{1}{4}x^2e^{-\\frac{x}{2}} = [-\\frac{(x^2+4x+8)e^{\\frac{x}{2}}}{2}]_{0}^{\\infty}\n",
    "$$"
   ]
  }
 ],
 "metadata": {
  "kernelspec": {
   "display_name": "env_full",
   "language": "python",
   "name": "python3"
  },
  "language_info": {
   "codemirror_mode": {
    "name": "ipython",
    "version": 3
   },
   "file_extension": ".py",
   "mimetype": "text/x-python",
   "name": "python",
   "nbconvert_exporter": "python",
   "pygments_lexer": "ipython3",
   "version": "3.9.16"
  },
  "orig_nbformat": 4,
  "vscode": {
   "interpreter": {
    "hash": "bd9e2ae3d122baa1ddffe589d5cb681683a001c8ea8f9fb613ba2909d22117bf"
   }
  }
 },
 "nbformat": 4,
 "nbformat_minor": 2
}
